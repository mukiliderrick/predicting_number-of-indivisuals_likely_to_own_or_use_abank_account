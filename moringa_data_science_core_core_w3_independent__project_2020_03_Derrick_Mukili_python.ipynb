{
  "nbformat": 4,
  "nbformat_minor": 0,
  "metadata": {
    "colab": {
      "name": "moringa_data_science_core_core_w3_independent _project_2020_03_Derrick_Mukili_python",
      "provenance": [],
      "collapsed_sections": [],
      "toc_visible": true,
      "include_colab_link": true
    },
    "kernelspec": {
      "name": "python3",
      "display_name": "Python 3"
    }
  },
  "cells": [
    {
      "cell_type": "markdown",
      "metadata": {
        "id": "view-in-github",
        "colab_type": "text"
      },
      "source": [
        "<a href=\"https://colab.research.google.com/github/mukiliderrick/predicting_number-of-indivisuals_likely_to_own_or_use_abank_account/blob/master/moringa_data_science_core_core_w3_independent__project_2020_03_Derrick_Mukili_python.ipynb\" target=\"_parent\"><img src=\"https://colab.research.google.com/assets/colab-badge.svg\" alt=\"Open In Colab\"/></a>"
      ]
    },
    {
      "cell_type": "markdown",
      "metadata": {
        "id": "FtNfyN9C1FSE",
        "colab_type": "text"
      },
      "source": [
        "# RESEARCH QUESTION \n",
        "\n",
        "Traditionally, access to bank accounts has been regarded as an indicator of financial inclusion. Despite the proliferation of mobile money in Africa and the growth of innovative fintech solutions, banks still play a pivotal role in facilitating access to financial services. Access to bank accounts enables households to save and facilitate payments while also helping businesses build up their credit-worthiness and improve their access to other financial services. Therefore, access to bank accounts is an essential contributor to long-term economic growth.\n",
        "\n",
        ".1.Find out individuals who are more likely to own a bank account\n",
        "2. find the key attributes that make an individual own a bank account\n"
      ]
    },
    {
      "cell_type": "markdown",
      "metadata": {
        "id": "V6AtwlW8DY-3",
        "colab_type": "text"
      },
      "source": [
        "# Univariate Analysis with Python "
      ]
    },
    {
      "cell_type": "markdown",
      "metadata": {
        "id": "kLkivweO1Iii",
        "colab_type": "text"
      },
      "source": [
        "## 1.0 Importing Libraries"
      ]
    },
    {
      "cell_type": "code",
      "metadata": {
        "id": "7rB0TURq1Mfo",
        "colab_type": "code",
        "colab": {}
      },
      "source": [
        "# Importing Pandas\n",
        "# \n",
        "import pandas as pd\n",
        "# Importing Numpy\n",
        "#\n",
        "import numpy as np\n",
        "# Importing Seaborn\n",
        "#\n",
        "import seaborn as sns\n",
        "# Importing Matplotlib\n",
        "#\n",
        "import matplotlib.pyplot as plt"
      ],
      "execution_count": 0,
      "outputs": []
    },
    {
      "cell_type": "markdown",
      "metadata": {
        "id": "iTbHrd4qE9qX",
        "colab_type": "text"
      },
      "source": [
        "#loading our Data"
      ]
    },
    {
      "cell_type": "code",
      "metadata": {
        "id": "XVoH-xigE1q7",
        "colab_type": "code",
        "colab": {
          "base_uri": "https://localhost:8080/",
          "height": 321
        },
        "outputId": "4876eaef-4c7a-4fe3-f2c8-1ba65a433ed5"
      },
      "source": [
        "#loading our dataset\n",
        "#thenviewing the first five rows at the top\n",
        "financial = pd.read_csv('/content/Financial Dataset - 1 (1).csv')\n",
        "financial.head()\n"
      ],
      "execution_count": 386,
      "outputs": [
        {
          "output_type": "execute_result",
          "data": {
            "text/html": [
              "<div>\n",
              "<style scoped>\n",
              "    .dataframe tbody tr th:only-of-type {\n",
              "        vertical-align: middle;\n",
              "    }\n",
              "\n",
              "    .dataframe tbody tr th {\n",
              "        vertical-align: top;\n",
              "    }\n",
              "\n",
              "    .dataframe thead th {\n",
              "        text-align: right;\n",
              "    }\n",
              "</style>\n",
              "<table border=\"1\" class=\"dataframe\">\n",
              "  <thead>\n",
              "    <tr style=\"text-align: right;\">\n",
              "      <th></th>\n",
              "      <th>country</th>\n",
              "      <th>year</th>\n",
              "      <th>uniqueid</th>\n",
              "      <th>Has a Bank account</th>\n",
              "      <th>Type of Location</th>\n",
              "      <th>Cell Phone Access</th>\n",
              "      <th>household_size</th>\n",
              "      <th>Respondent Age</th>\n",
              "      <th>gender_of_respondent</th>\n",
              "      <th>The relathip with head</th>\n",
              "      <th>marital_status</th>\n",
              "      <th>Level of Educuation</th>\n",
              "      <th>Type of Job</th>\n",
              "    </tr>\n",
              "  </thead>\n",
              "  <tbody>\n",
              "    <tr>\n",
              "      <th>0</th>\n",
              "      <td>Kenya</td>\n",
              "      <td>2018</td>\n",
              "      <td>uniqueid_1</td>\n",
              "      <td>Yes</td>\n",
              "      <td>Rural</td>\n",
              "      <td>Yes</td>\n",
              "      <td>3.0</td>\n",
              "      <td>24.0</td>\n",
              "      <td>Female</td>\n",
              "      <td>Spouse</td>\n",
              "      <td>Married/Living together</td>\n",
              "      <td>Secondary education</td>\n",
              "      <td>Self employed</td>\n",
              "    </tr>\n",
              "    <tr>\n",
              "      <th>1</th>\n",
              "      <td>Kenya</td>\n",
              "      <td>2018</td>\n",
              "      <td>uniqueid_2</td>\n",
              "      <td>No</td>\n",
              "      <td>Rural</td>\n",
              "      <td>No</td>\n",
              "      <td>5.0</td>\n",
              "      <td>70.0</td>\n",
              "      <td>Female</td>\n",
              "      <td>Head of Household</td>\n",
              "      <td>Widowed</td>\n",
              "      <td>No formal education</td>\n",
              "      <td>Government Dependent</td>\n",
              "    </tr>\n",
              "    <tr>\n",
              "      <th>2</th>\n",
              "      <td>Kenya</td>\n",
              "      <td>2018</td>\n",
              "      <td>uniqueid_3</td>\n",
              "      <td>Yes</td>\n",
              "      <td>Urban</td>\n",
              "      <td>Yes</td>\n",
              "      <td>5.0</td>\n",
              "      <td>26.0</td>\n",
              "      <td>Male</td>\n",
              "      <td>Other relative</td>\n",
              "      <td>Single/Never Married</td>\n",
              "      <td>Vocational/Specialised training</td>\n",
              "      <td>Self employed</td>\n",
              "    </tr>\n",
              "    <tr>\n",
              "      <th>3</th>\n",
              "      <td>Kenya</td>\n",
              "      <td>2018</td>\n",
              "      <td>uniqueid_4</td>\n",
              "      <td>No</td>\n",
              "      <td>Rural</td>\n",
              "      <td>Yes</td>\n",
              "      <td>5.0</td>\n",
              "      <td>34.0</td>\n",
              "      <td>Female</td>\n",
              "      <td>Head of Household</td>\n",
              "      <td>Married/Living together</td>\n",
              "      <td>Primary education</td>\n",
              "      <td>Formally employed Private</td>\n",
              "    </tr>\n",
              "    <tr>\n",
              "      <th>4</th>\n",
              "      <td>Kenya</td>\n",
              "      <td>2018</td>\n",
              "      <td>uniqueid_5</td>\n",
              "      <td>No</td>\n",
              "      <td>Urban</td>\n",
              "      <td>No</td>\n",
              "      <td>8.0</td>\n",
              "      <td>26.0</td>\n",
              "      <td>Male</td>\n",
              "      <td>Child</td>\n",
              "      <td>Single/Never Married</td>\n",
              "      <td>Primary education</td>\n",
              "      <td>Informally employed</td>\n",
              "    </tr>\n",
              "  </tbody>\n",
              "</table>\n",
              "</div>"
            ],
            "text/plain": [
              "  country  year  ...              Level of Educuation                Type of Job\n",
              "0   Kenya  2018  ...              Secondary education              Self employed\n",
              "1   Kenya  2018  ...              No formal education       Government Dependent\n",
              "2   Kenya  2018  ...  Vocational/Specialised training              Self employed\n",
              "3   Kenya  2018  ...                Primary education  Formally employed Private\n",
              "4   Kenya  2018  ...                Primary education        Informally employed\n",
              "\n",
              "[5 rows x 13 columns]"
            ]
          },
          "metadata": {
            "tags": []
          },
          "execution_count": 386
        }
      ]
    },
    {
      "cell_type": "markdown",
      "metadata": {
        "id": "XUQWjGbOOeme",
        "colab_type": "text"
      },
      "source": [
        "## viewing our data"
      ]
    },
    {
      "cell_type": "code",
      "metadata": {
        "id": "vjjWHo6DLM-C",
        "colab_type": "code",
        "colab": {
          "base_uri": "https://localhost:8080/",
          "height": 33
        },
        "outputId": "e8aed9e1-24db-4c93-b1c0-0b08bccbc0f2"
      },
      "source": [
        "#checking the number of records our data has\n",
        "financial.shape"
      ],
      "execution_count": 387,
      "outputs": [
        {
          "output_type": "execute_result",
          "data": {
            "text/plain": [
              "(23524, 13)"
            ]
          },
          "metadata": {
            "tags": []
          },
          "execution_count": 387
        }
      ]
    },
    {
      "cell_type": "code",
      "metadata": {
        "id": "t0DdM4aMOuvJ",
        "colab_type": "code",
        "colab": {
          "base_uri": "https://localhost:8080/",
          "height": 245
        },
        "outputId": "d6242cb2-1e5b-4a32-b6c8-63b8e9a991e3"
      },
      "source": [
        "#checking if our data is with the appropriate data types\n",
        "financial.dtypes"
      ],
      "execution_count": 388,
      "outputs": [
        {
          "output_type": "execute_result",
          "data": {
            "text/plain": [
              "country                    object\n",
              "year                        int64\n",
              "uniqueid                   object\n",
              "Has a Bank account         object\n",
              "Type of Location           object\n",
              "Cell Phone Access          object\n",
              "household_size            float64\n",
              "Respondent Age            float64\n",
              "gender_of_respondent       object\n",
              "The relathip with head     object\n",
              "marital_status             object\n",
              "Level of Educuation        object\n",
              "Type of Job                object\n",
              "dtype: object"
            ]
          },
          "metadata": {
            "tags": []
          },
          "execution_count": 388
        }
      ]
    },
    {
      "cell_type": "markdown",
      "metadata": {
        "id": "epyhPx7xOOWF",
        "colab_type": "text"
      },
      "source": [
        "#Tiding our data"
      ]
    },
    {
      "cell_type": "code",
      "metadata": {
        "id": "KP-2h49ZJAUv",
        "colab_type": "code",
        "colab": {
          "base_uri": "https://localhost:8080/",
          "height": 98
        },
        "outputId": "056994d3-0da0-4cf8-e7f2-6bace7ab8edd"
      },
      "source": [
        "#viewing out column names that we are remaning\n",
        "financial.columns"
      ],
      "execution_count": 389,
      "outputs": [
        {
          "output_type": "execute_result",
          "data": {
            "text/plain": [
              "Index(['country', 'year', 'uniqueid', 'Has a Bank account', 'Type of Location',\n",
              "       'Cell Phone Access', 'household_size', 'Respondent Age',\n",
              "       'gender_of_respondent', 'The relathip with head', 'marital_status',\n",
              "       'Level of Educuation', 'Type of Job'],\n",
              "      dtype='object')"
            ]
          },
          "metadata": {
            "tags": []
          },
          "execution_count": 389
        }
      ]
    },
    {
      "cell_type": "code",
      "metadata": {
        "id": "jyDQOFo3LxOo",
        "colab_type": "code",
        "colab": {
          "base_uri": "https://localhost:8080/",
          "height": 245
        },
        "outputId": "52c31c1f-b22c-42ff-886a-65eeb2e1fcec"
      },
      "source": [
        "#checking for null values\n",
        "financial.isnull().sum()"
      ],
      "execution_count": 390,
      "outputs": [
        {
          "output_type": "execute_result",
          "data": {
            "text/plain": [
              "country                   14\n",
              "year                       0\n",
              "uniqueid                   0\n",
              "Has a Bank account        36\n",
              "Type of Location          15\n",
              "Cell Phone Access         11\n",
              "household_size            28\n",
              "Respondent Age            34\n",
              "gender_of_respondent      34\n",
              "The relathip with head     4\n",
              "marital_status            32\n",
              "Level of Educuation       29\n",
              "Type of Job               30\n",
              "dtype: int64"
            ]
          },
          "metadata": {
            "tags": []
          },
          "execution_count": 390
        }
      ]
    },
    {
      "cell_type": "code",
      "metadata": {
        "id": "Z18LZkfBNt_K",
        "colab_type": "code",
        "colab": {}
      },
      "source": [
        "#droppimg null values as they will affect our analysis negatively\n",
        "fin1= financial.dropna()"
      ],
      "execution_count": 0,
      "outputs": []
    },
    {
      "cell_type": "code",
      "metadata": {
        "id": "v5RdZU0UN0FO",
        "colab_type": "code",
        "colab": {
          "base_uri": "https://localhost:8080/",
          "height": 245
        },
        "outputId": "e02e8599-62a7-4544-aa2a-32fa2b4e2e38"
      },
      "source": [
        "#checking if the null values have been dropped\n",
        "fin1.isnull().sum()"
      ],
      "execution_count": 469,
      "outputs": [
        {
          "output_type": "execute_result",
          "data": {
            "text/plain": [
              "country                   0\n",
              "year                      0\n",
              "uniqueid                  0\n",
              "Has a Bank account        0\n",
              "Type of Location          0\n",
              "Cell Phone Access         0\n",
              "household_size            0\n",
              "Respondent Age            0\n",
              "gender_of_respondent      0\n",
              "The relathip with head    0\n",
              "marital_status            0\n",
              "Level of Educuation       0\n",
              "Type of Job               0\n",
              "dtype: int64"
            ]
          },
          "metadata": {
            "tags": []
          },
          "execution_count": 469
        }
      ]
    },
    {
      "cell_type": "code",
      "metadata": {
        "id": "VfTmVo0cpQBw",
        "colab_type": "code",
        "colab": {}
      },
      "source": [
        "# Dropping columns we do not need for this analysis\n",
        "\n",
        "fino = fin1.drop(['uniqueid'], axis = 1)"
      ],
      "execution_count": 0,
      "outputs": []
    },
    {
      "cell_type": "code",
      "metadata": {
        "id": "NNOX5xOJuVpz",
        "colab_type": "code",
        "colab": {
          "base_uri": "https://localhost:8080/",
          "height": 98
        },
        "outputId": "e39c25c0-b53d-4bb2-91ef-573622fd12ee"
      },
      "source": [
        "#checking if uniqueId is still within the dataset\n",
        "fino.columns"
      ],
      "execution_count": 471,
      "outputs": [
        {
          "output_type": "execute_result",
          "data": {
            "text/plain": [
              "Index(['country', 'year', 'Has a Bank account', 'Type of Location',\n",
              "       'Cell Phone Access', 'household_size', 'Respondent Age',\n",
              "       'gender_of_respondent', 'The relathip with head', 'marital_status',\n",
              "       'Level of Educuation', 'Type of Job'],\n",
              "      dtype='object')"
            ]
          },
          "metadata": {
            "tags": []
          },
          "execution_count": 471
        }
      ]
    },
    {
      "cell_type": "markdown",
      "metadata": {
        "id": "owax7Cp5s6-_",
        "colab_type": "text"
      },
      "source": [
        "##Fixing column names"
      ]
    },
    {
      "cell_type": "code",
      "metadata": {
        "id": "3ZuLeAK_tBPy",
        "colab_type": "code",
        "colab": {}
      },
      "source": [
        "#some column names has error of misspelled words\n",
        "fino.rename(columns={'level of education':'level_of_education'}, inplace=True)#fixing level of education name\n",
        "fino.rename(columns={'The relathip with head':'the_relationship_with_head'}, inplace=True)#fixing the relationship with head name"
      ],
      "execution_count": 0,
      "outputs": []
    },
    {
      "cell_type": "code",
      "metadata": {
        "id": "bWCfalrkvFVu",
        "colab_type": "code",
        "colab": {
          "base_uri": "https://localhost:8080/",
          "height": 98
        },
        "outputId": "33428ef8-8e48-4b71-860c-6371e8f17a3a"
      },
      "source": [
        "#confirming if the column names have been corrected\n",
        "fino.columns"
      ],
      "execution_count": 473,
      "outputs": [
        {
          "output_type": "execute_result",
          "data": {
            "text/plain": [
              "Index(['country', 'year', 'Has a Bank account', 'Type of Location',\n",
              "       'Cell Phone Access', 'household_size', 'Respondent Age',\n",
              "       'gender_of_respondent', 'the_relationship_with_head', 'marital_status',\n",
              "       'Level of Educuation', 'Type of Job'],\n",
              "      dtype='object')"
            ]
          },
          "metadata": {
            "tags": []
          },
          "execution_count": 473
        }
      ]
    },
    {
      "cell_type": "code",
      "metadata": {
        "id": "apWOJMhkAD8q",
        "colab_type": "code",
        "colab": {}
      },
      "source": [
        "fin = fino"
      ],
      "execution_count": 0,
      "outputs": []
    },
    {
      "cell_type": "markdown",
      "metadata": {
        "id": "_uJEibgIvhLO",
        "colab_type": "text"
      },
      "source": [
        "## Checking for outliers"
      ]
    },
    {
      "cell_type": "code",
      "metadata": {
        "id": "5J4Kl1RqvoPt",
        "colab_type": "code",
        "colab": {
          "base_uri": "https://localhost:8080/",
          "height": 493
        },
        "outputId": "eb552ee7-5a0d-43d4-dbb7-dbceba1bceb8"
      },
      "source": [
        "#checking for outliers\n",
        "# we can see that we do have outliers in our dataset\n",
        "fig, (ax1,ax2) = plt.subplots(1,2, figsize=(10,7))\n",
        "fig.suptitle('plot of outliers')\n",
        "sns.boxplot(fino['household_size'],ax=ax1)\n",
        "sns.boxplot(fino['Respondent Age'], ax=ax2)\n",
        "plt.show()"
      ],
      "execution_count": 475,
      "outputs": [
        {
          "output_type": "display_data",
          "data": {
            "image/png": "[encoded data removed]",
            "text/plain": [
              "<Figure size 720x504 with 2 Axes>"
            ]
          },
          "metadata": {
            "tags": [],
            "needs_background": "light"
          }
        }
      ]
    },
    {
      "cell_type": "markdown",
      "metadata": {
        "id": "AeAKpBGxBXPa",
        "colab_type": "text"
      },
      "source": [
        "# checking for anomalies"
      ]
    },
    {
      "cell_type": "code",
      "metadata": {
        "id": "VMPQdVNLN5XB",
        "colab_type": "code",
        "colab": {
          "base_uri": "https://localhost:8080/",
          "height": 82
        },
        "outputId": "c3e2a51e-24c8-4713-fc67-3980f3393371"
      },
      "source": [
        "#removing the outliers in the two columns\n",
        "q1 = fino.quantile(.25)\n",
        "q3 = fino.quantile(.75)\n",
        "\n",
        "iqr =q3 -q1\n",
        "print(iqr)\n"
      ],
      "execution_count": 478,
      "outputs": [
        {
          "output_type": "stream",
          "text": [
            "year               2.0\n",
            "household_size     3.0\n",
            "Respondent Age    23.0\n",
            "dtype: float64\n"
          ],
          "name": "stdout"
        }
      ]
    },
    {
      "cell_type": "markdown",
      "metadata": {
        "id": "ohtrK-tdBclX",
        "colab_type": "text"
      },
      "source": [
        "#removing outliers"
      ]
    },
    {
      "cell_type": "code",
      "metadata": {
        "id": "jrOl5jHEBFKx",
        "colab_type": "code",
        "colab": {
          "base_uri": "https://localhost:8080/",
          "height": 33
        },
        "outputId": "25e5e66a-07fa-4d44-f2e3-7291b48b91e2"
      },
      "source": [
        "fin= fino[~((fino < (q1 - 1.5 * iqr)) |(fino > (q3 + 1.5 * iqr))).any(axis=1)]\n",
        "print(fin.shape)"
      ],
      "execution_count": 480,
      "outputs": [
        {
          "output_type": "stream",
          "text": [
            "(22725, 12)\n"
          ],
          "name": "stdout"
        }
      ]
    },
    {
      "cell_type": "code",
      "metadata": {
        "id": "Fc5ceuBrs_Eu",
        "colab_type": "code",
        "colab": {
          "base_uri": "https://localhost:8080/",
          "height": 33
        },
        "outputId": "6e6fe9e8-cb8f-49dd-ddf8-7e41d4e30b14"
      },
      "source": [
        "#viewinf the  year column for anomalies\n",
        "fin['year'].unique()"
      ],
      "execution_count": 399,
      "outputs": [
        {
          "output_type": "execute_result",
          "data": {
            "text/plain": [
              "array([2018, 2029, 2056, 2016, 2039, 2017])"
            ]
          },
          "metadata": {
            "tags": []
          },
          "execution_count": 399
        }
      ]
    },
    {
      "cell_type": "code",
      "metadata": {
        "id": "BhihpUCBZYbR",
        "colab_type": "code",
        "colab": {}
      },
      "source": [
        "#remocing the anomalies from the year colums\n",
        "anom = fin[fin['year']> 2018].index\n",
        "fin.drop(anom,inplace=True)"
      ],
      "execution_count": 0,
      "outputs": []
    },
    {
      "cell_type": "markdown",
      "metadata": {
        "id": "uKWbaQAnyuW8",
        "colab_type": "text"
      },
      "source": [
        "#Exploratory Data Analysis"
      ]
    },
    {
      "cell_type": "markdown",
      "metadata": {
        "id": "DntPfS8dy0k1",
        "colab_type": "text"
      },
      "source": [
        "   ##   Univariate **analysis**"
      ]
    },
    {
      "cell_type": "markdown",
      "metadata": {
        "id": "z3QW8Xh41XwU",
        "colab_type": "text"
      },
      "source": [
        "###Bar charts"
      ]
    },
    {
      "cell_type": "code",
      "metadata": {
        "id": "owKMb-lg1Ws4",
        "colab_type": "code",
        "colab": {
          "base_uri": "https://localhost:8080/",
          "height": 403
        },
        "outputId": "9b648efa-1b1e-4945-d721-af158038535e"
      },
      "source": [
        "#plotting abar graph of participants with bank accounts vs those who dont\n",
        "#majority of the individuals do not own bank accounts\n",
        "plt.figure(dpi = 100)\n",
        "sns.countplot(fin['Has a Bank account'])\n",
        "plt.title(\"A bar chart that shows people with bank account\")\n",
        "plt.show()"
      ],
      "execution_count": 401,
      "outputs": [
        {
          "output_type": "display_data",
          "data": {
            "image/png": "[encoded data removed]",
            "text/plain": [
              "<Figure size 600x400 with 1 Axes>"
            ]
          },
          "metadata": {
            "tags": [],
            "needs_background": "light"
          }
        }
      ]
    },
    {
      "cell_type": "markdown",
      "metadata": {
        "id": "LZl2r5Nz2C8a",
        "colab_type": "text"
      },
      "source": [
        "### Histogram"
      ]
    },
    {
      "cell_type": "code",
      "metadata": {
        "id": "TVsf8PqZ2kEU",
        "colab_type": "code",
        "colab": {
          "base_uri": "https://localhost:8080/",
          "height": 403
        },
        "outputId": "68b48027-6877-4268-ac4f-78045feccc37"
      },
      "source": [
        "#a histogram showing the household size distribution\n",
        "plt.figure(dpi = 100)\n",
        "sns.distplot(fin['household_size'], color= 'green')\n",
        "plt.title('A histogram chart of the house hold size')\n",
        "plt.show()"
      ],
      "execution_count": 402,
      "outputs": [
        {
          "output_type": "display_data",
          "data": {
            "image/png": "[encoded data removed]",
            "text/plain": [
              "<Figure size 600x400 with 1 Axes>"
            ]
          },
          "metadata": {
            "tags": [],
            "needs_background": "light"
          }
        }
      ]
    },
    {
      "cell_type": "code",
      "metadata": {
        "id": "BvVtsmfP3Uw1",
        "colab_type": "code",
        "colab": {
          "base_uri": "https://localhost:8080/",
          "height": 403
        },
        "outputId": "43be0c34-780a-4fbf-90d3-27b4247d5a32"
      },
      "source": [
        "#a histogram showing the distribution of the Population age\n",
        "plt.figure(dpi = 100)\n",
        "sns.distplot(fin['Respondent Age'], color= 'green')\n",
        "plt.title('A histogram chart of Respondent age')\n",
        "plt.show()"
      ],
      "execution_count": 403,
      "outputs": [
        {
          "output_type": "display_data",
          "data": {
            "image/png": "[encoded data removed]",
            "text/plain": [
              "<Figure size 600x400 with 1 Axes>"
            ]
          },
          "metadata": {
            "tags": [],
            "needs_background": "light"
          }
        }
      ]
    },
    {
      "cell_type": "markdown",
      "metadata": {
        "id": "hZTY_XKdzGTb",
        "colab_type": "text"
      },
      "source": [
        "###     Pie charts"
      ]
    },
    {
      "cell_type": "code",
      "metadata": {
        "id": "o81E5ccKyePf",
        "colab_type": "code",
        "colab": {
          "base_uri": "https://localhost:8080/",
          "height": 533
        },
        "outputId": "2baab03b-4871-4fb9-8897-604774af461a"
      },
      "source": [
        "# A pie chart showing the distribution of individuals with bank accounts per country\n",
        "#kenya has the majority of people with bank accounts\n",
        "bank =fin.groupby(['country'])['Has a Bank account'].count()\n",
        "print(bank)\n",
        "label = ['Rwanda','Kenya','Tanzania','Uganda']\n",
        "label\n",
        "\n",
        "plt.figure(figsize=(5,5),dpi=100)\n",
        "plt.pie(bank, labels = label, autopct= '%1.1f%%', shadow= True,  startangle= 30)\n",
        "plt.axis('equal')\n",
        "plt.title('A Pie chart with a summary of people with bank account', color='gold')\n",
        "plt.show()"
      ],
      "execution_count": 491,
      "outputs": [
        {
          "output_type": "stream",
          "text": [
            "country\n",
            "Kenya       5868\n",
            "Rwanda      8512\n",
            "Tanzania    6424\n",
            "Uganda      1921\n",
            "Name: Has a Bank account, dtype: int64\n"
          ],
          "name": "stdout"
        },
        {
          "output_type": "display_data",
          "data": {
            "image/png": "[encoded data removed]",
            "text/plain": [
              "<Figure size 500x500 with 1 Axes>"
            ]
          },
          "metadata": {
            "tags": []
          }
        }
      ]
    },
    {
      "cell_type": "code",
      "metadata": {
        "id": "ICg7aUitDwAg",
        "colab_type": "code",
        "colab": {
          "base_uri": "https://localhost:8080/",
          "height": 501
        },
        "outputId": "be1878eb-eb7d-4b33-8a1e-444b3519a133"
      },
      "source": [
        "# A pie chart showing the distribution of individuals with bank accounts per Gender\n",
        "bank =fin.groupby(['gender_of_respondent'])['Has a Bank account'].count()\n",
        "print(bank)\n",
        "label = ['Male','Female']\n",
        "label\n",
        "\n",
        "plt.figure(figsize=(5,5),dpi=100)\n",
        "plt.pie(bank, labels = label, autopct= '%1.1f%%', shadow= True,  startangle= 30)\n",
        "plt.axis('equal')\n",
        "plt.title('A Pie chart with a summary of people with bank account', color='gold')\n",
        "plt.show()"
      ],
      "execution_count": 490,
      "outputs": [
        {
          "output_type": "stream",
          "text": [
            "gender_of_respondent\n",
            "Female    13397\n",
            "Male       9328\n",
            "Name: Has a Bank account, dtype: int64\n"
          ],
          "name": "stdout"
        },
        {
          "output_type": "display_data",
          "data": {
            "image/png": "[encoded data removed]",
            "text/plain": [
              "<Figure size 500x500 with 1 Axes>"
            ]
          },
          "metadata": {
            "tags": []
          }
        }
      ]
    },
    {
      "cell_type": "markdown",
      "metadata": {
        "id": "tEO206NS3e-N",
        "colab_type": "text"
      },
      "source": [
        "### Central Tendancy"
      ]
    },
    {
      "cell_type": "code",
      "metadata": {
        "id": "oRQ1b8jc310D",
        "colab_type": "code",
        "colab": {
          "base_uri": "https://localhost:8080/",
          "height": 50
        },
        "outputId": "63379397-b695-4352-d7f9-1053f3a110a2"
      },
      "source": [
        "#checking the mean for the numerical data that is year, household size and respondent age\n",
        "print('house houlds mean',fin['household_size'].mean())\n",
        "print('respomdent age mean',fin['Respondent Age'].mean())"
      ],
      "execution_count": 406,
      "outputs": [
        {
          "output_type": "stream",
          "text": [
            "house houlds mean 3.688560411311054\n",
            "respomdent age mean 38.80706940874036\n"
          ],
          "name": "stdout"
        }
      ]
    },
    {
      "cell_type": "code",
      "metadata": {
        "id": "uEg7jHgu4A6h",
        "colab_type": "code",
        "colab": {
          "base_uri": "https://localhost:8080/",
          "height": 82
        },
        "outputId": "ecdd5054-b254-4aa9-d920-0ff547b060a9"
      },
      "source": [
        "#checking the mode for the numerical data that is year, household size and respondent age\n",
        "print('house houlds median',fin['household_size'].mode())\n",
        "print('respomdent age median',fin['Respondent Age'].mode())"
      ],
      "execution_count": 407,
      "outputs": [
        {
          "output_type": "stream",
          "text": [
            "house houlds median 0    2.0\n",
            "dtype: float64\n",
            "respomdent age median 0    30.0\n",
            "dtype: float64\n"
          ],
          "name": "stdout"
        }
      ]
    },
    {
      "cell_type": "code",
      "metadata": {
        "id": "UgvNoSZY4kyv",
        "colab_type": "code",
        "colab": {
          "base_uri": "https://localhost:8080/",
          "height": 50
        },
        "outputId": "4725ddb8-20d1-4c10-9a1d-966d13cc3fc1"
      },
      "source": [
        "#checking the mode for the numerical data that is year, household size and respondent age\n",
        "print('house houlds median',fin['household_size'].median())\n",
        "print('respomdent age median',fin['Respondent Age'].median())"
      ],
      "execution_count": 408,
      "outputs": [
        {
          "output_type": "stream",
          "text": [
            "house houlds median 3.0\n",
            "respomdent age median 35.0\n"
          ],
          "name": "stdout"
        }
      ]
    },
    {
      "cell_type": "markdown",
      "metadata": {
        "id": "FiNab0Ta4y7s",
        "colab_type": "text"
      },
      "source": [
        "##Bivariate analysis"
      ]
    },
    {
      "cell_type": "markdown",
      "metadata": {
        "id": "6b2sdJbq47Sw",
        "colab_type": "text"
      },
      "source": [
        "###Scatter plots"
      ]
    },
    {
      "cell_type": "code",
      "metadata": {
        "id": "aDyNLPJi43ar",
        "colab_type": "code",
        "colab": {
          "base_uri": "https://localhost:8080/",
          "height": 403
        },
        "outputId": "b6992849-3891-4204-91d5-ccfeb0648676"
      },
      "source": [
        "# we are going to plot a scatter plot so that we can see is their is a correlation between the householdsize and the respondent age\n",
        "#this shows that their is no relationship between the respondent age and athe household size as we can not see any positive or negative trend\n",
        "plt.figure(dpi= 100)\n",
        "plt.scatter(fin['household_size'], fin['Respondent Age'])\n",
        "plt.title('A scatter plot of house hold size against the age', color = 'gold')\n",
        "plt.xlabel('household size')\n",
        "plt.ylabel('respondent age')\n",
        "plt.show()"
      ],
      "execution_count": 409,
      "outputs": [
        {
          "output_type": "display_data",
          "data": {
            "image/png": "[encoded data removed]",
            "text/plain": [
              "<Figure size 600x400 with 1 Axes>"
            ]
          },
          "metadata": {
            "tags": [],
            "needs_background": "light"
          }
        }
      ]
    },
    {
      "cell_type": "markdown",
      "metadata": {
        "id": "F0Wewsc6GWcd",
        "colab_type": "text"
      },
      "source": [
        "### Line graph"
      ]
    },
    {
      "cell_type": "code",
      "metadata": {
        "id": "-ZSanzYH6BCj",
        "colab_type": "code",
        "colab": {
          "base_uri": "https://localhost:8080/",
          "height": 883
        },
        "outputId": "66049717-d0f9-4aa6-d5f0-1543eb8731f7"
      },
      "source": [
        "#their are too many variable to plot\n",
        "plt.figure(figsize = (10,10), dpi = 100)\n",
        "plt.plot(fin[['Respondent Age', 'household_size']])\n",
        "plt.xticks(rotation = 45)\n",
        "plt.title('A line chart of respondent age and household size', color = 'Green')\n",
        "plt.xlabel('respondent age')\n",
        "plt.ylabel('household size')\n",
        "plt.show()"
      ],
      "execution_count": 494,
      "outputs": [
        {
          "output_type": "display_data",
          "data": {
            "image/png": "[encoded data removed]",
            "text/plain": [
              "<Figure size 1000x1000 with 1 Axes>"
            ]
          },
          "metadata": {
            "tags": [],
            "needs_background": "light"
          }
        }
      ]
    },
    {
      "cell_type": "code",
      "metadata": {
        "id": "laG25B4dG66I",
        "colab_type": "code",
        "colab": {
          "base_uri": "https://localhost:8080/",
          "height": 875
        },
        "outputId": "b1b186f3-3ed4-4678-c294-00665063dd2e"
      },
      "source": [
        "#we are going to limit the number of rows\n",
        "find=fin.iloc[0:20,-7:-5]\n",
        "plt.figure(figsize = (10,10), dpi = 100)\n",
        "plt.plot(find[['Respondent Age', 'household_size']])\n",
        "plt.xticks(rotation = 45)\n",
        "plt.title('A line chart of respondent age and household size', color = 'Green')\n",
        "plt.xlabel('respondent age')\n",
        "plt.ylabel('household size')\n",
        "plt.show()"
      ],
      "execution_count": 496,
      "outputs": [
        {
          "output_type": "display_data",
          "data": {
            "image/png": "[encoded data removed]",
            "text/plain": [
              "<Figure size 1000x1000 with 1 Axes>"
            ]
          },
          "metadata": {
            "tags": [],
            "needs_background": "light"
          }
        }
      ]
    },
    {
      "cell_type": "markdown",
      "metadata": {
        "id": "Dy8PRD2iHWOi",
        "colab_type": "text"
      },
      "source": [
        "###Heat map"
      ]
    },
    {
      "cell_type": "code",
      "metadata": {
        "id": "V2GddnB0_Hdk",
        "colab_type": "code",
        "colab": {
          "base_uri": "https://localhost:8080/",
          "height": 270
        },
        "outputId": "0dd7dda4-badb-4ece-bfbb-fc761927313d"
      },
      "source": [
        "#this is a heat map showing the realationship between the year,householdsize and the respondent age\n",
        "sns.heatmap(fin.corr(), annot=True)\n",
        "plt.show()"
      ],
      "execution_count": 413,
      "outputs": [
        {
          "output_type": "display_data",
          "data": {
            "image/png": "[encoded data removed]",
            "text/plain": [
              "<Figure size 432x288 with 2 Axes>"
            ]
          },
          "metadata": {
            "tags": [],
            "needs_background": "light"
          }
        }
      ]
    },
    {
      "cell_type": "markdown",
      "metadata": {
        "id": "YI_q4YIQ8D5B",
        "colab_type": "text"
      },
      "source": [
        "# MULTIVARIATE"
      ]
    },
    {
      "cell_type": "markdown",
      "metadata": {
        "id": "PxVerLeC5AMm",
        "colab_type": "text"
      },
      "source": [
        "## Principal Component Analysis (PCA)"
      ]
    },
    {
      "cell_type": "markdown",
      "metadata": {
        "id": "b8fBm3kUH_Xz",
        "colab_type": "text"
      },
      "source": [
        "## mapping of the the categorical variables with numerical data"
      ]
    },
    {
      "cell_type": "code",
      "metadata": {
        "id": "zafNMnbUIzpF",
        "colab_type": "code",
        "colab": {}
      },
      "source": [
        "\n",
        "map_country ={\n",
        "    \"Kenya\": 0,\n",
        "    \"Rwanda\": 1,\n",
        "    \"Tanzania\": 2,\n",
        "    \"Uganda\": 3\n",
        "}\n",
        "\n",
        "fin['country']=fin['country'].map(map_country)"
      ],
      "execution_count": 0,
      "outputs": []
    },
    {
      "cell_type": "code",
      "metadata": {
        "id": "MgMgbpisJUMq",
        "colab_type": "code",
        "colab": {}
      },
      "source": [
        "map_bank ={\n",
        "    \"Yes\": 1,\n",
        "    \"No\":0    \n",
        "}\n",
        "fin['Has a Bank account']=fin['Has a Bank account'].map(map_bank)"
      ],
      "execution_count": 0,
      "outputs": []
    },
    {
      "cell_type": "code",
      "metadata": {
        "id": "dkx12ovkJi04",
        "colab_type": "code",
        "colab": {}
      },
      "source": [
        "map_location ={\n",
        "    \"Rural\": 1,\n",
        "    \"Urban\":0\n",
        "}\n",
        "fin['Type of Location']=fin['Type of Location'].map(map_location)"
      ],
      "execution_count": 0,
      "outputs": []
    },
    {
      "cell_type": "code",
      "metadata": {
        "id": "8KLUIZjsJylL",
        "colab_type": "code",
        "colab": {}
      },
      "source": [
        "map_phone ={\n",
        "    \"Yes\": 1,\n",
        "    \"No\":0\n",
        "    \n",
        "}\n",
        "fin['Cell Phone Access']=fin['Cell Phone Access'].map(map_phone)"
      ],
      "execution_count": 0,
      "outputs": []
    },
    {
      "cell_type": "code",
      "metadata": {
        "id": "RWZ3Y_waKioA",
        "colab_type": "code",
        "colab": {}
      },
      "source": [
        "map_gender={\n",
        "    'Female':1,\n",
        "    'Male':0\n",
        "}\n",
        "fin['gender_of_respondent'] =fin['gender_of_respondent'].map(map_gender)"
      ],
      "execution_count": 0,
      "outputs": []
    },
    {
      "cell_type": "code",
      "metadata": {
        "id": "--ItJ4QBLRdY",
        "colab_type": "code",
        "colab": {}
      },
      "source": [
        "map_head={\n",
        "    \"Spouse\":2,\n",
        "    \"Head of Household\":1,\n",
        "    \"Other relative\":0,\n",
        "    \"Child\":3,\n",
        "    \"Parent\":4,\n",
        "    \"Other non-relatives\":5\n",
        "}\n",
        "fin['the_relationship_with_head']=fin['the_relationship_with_head'].map(map_head)"
      ],
      "execution_count": 0,
      "outputs": []
    },
    {
      "cell_type": "code",
      "metadata": {
        "id": "S4bDdzGvMPKh",
        "colab_type": "code",
        "colab": {}
      },
      "source": [
        "map_education={\n",
        "    \"No formal education\":0,\n",
        "    \"Primary education\":1,\n",
        "    \"Secondary education\":2,\n",
        "    \"Vocational/Specialised training\":3,\n",
        "    \"Tertiary education\":4,\n",
        "    \"Other/Dont know/RTA\":5,\n",
        "    \"6\":6\n",
        "}\n",
        "fin['Level of Educuation']=fin['Level of Educuation'].map(map_education)"
      ],
      "execution_count": 0,
      "outputs": []
    },
    {
      "cell_type": "code",
      "metadata": {
        "id": "AIhQZIxdPCiB",
        "colab_type": "code",
        "colab": {}
      },
      "source": [
        "map_job={\n",
        "    \"Self employed\":0,\n",
        "    \"Government Dependent\":1,\n",
        "    \"Formally employed Private\":2,\n",
        "    \"Informally employed\":3,\n",
        "    \"Formally employed Government\":4,\n",
        "    \"Farming and Fishing\":5,\n",
        "    \"Remittance Dependent\":6,\n",
        "    \"Other Income\":7,\n",
        "    \"Dont Know/Refuse to answer\":8,\n",
        "    \"No Income\":9\n",
        "}\n",
        "fin['Type of Job']=fin['Type of Job'].map(map_job)"
      ],
      "execution_count": 0,
      "outputs": []
    },
    {
      "cell_type": "code",
      "metadata": {
        "id": "H3Nv7QnaEp0D",
        "colab_type": "code",
        "colab": {
          "base_uri": "https://localhost:8080/",
          "height": 288
        },
        "outputId": "2a31e620-4ce1-4176-8572-27ac15b61cb8"
      },
      "source": [
        "#checking our data to see if the mapping worked\n",
        "fin.head()"
      ],
      "execution_count": 426,
      "outputs": [
        {
          "output_type": "execute_result",
          "data": {
            "text/html": [
              "<div>\n",
              "<style scoped>\n",
              "    .dataframe tbody tr th:only-of-type {\n",
              "        vertical-align: middle;\n",
              "    }\n",
              "\n",
              "    .dataframe tbody tr th {\n",
              "        vertical-align: top;\n",
              "    }\n",
              "\n",
              "    .dataframe thead th {\n",
              "        text-align: right;\n",
              "    }\n",
              "</style>\n",
              "<table border=\"1\" class=\"dataframe\">\n",
              "  <thead>\n",
              "    <tr style=\"text-align: right;\">\n",
              "      <th></th>\n",
              "      <th>country</th>\n",
              "      <th>year</th>\n",
              "      <th>Has a Bank account</th>\n",
              "      <th>Type of Location</th>\n",
              "      <th>Cell Phone Access</th>\n",
              "      <th>household_size</th>\n",
              "      <th>Respondent Age</th>\n",
              "      <th>gender_of_respondent</th>\n",
              "      <th>the_relationship_with_head</th>\n",
              "      <th>marital_status</th>\n",
              "      <th>Level of Educuation</th>\n",
              "      <th>Type of Job</th>\n",
              "    </tr>\n",
              "  </thead>\n",
              "  <tbody>\n",
              "    <tr>\n",
              "      <th>0</th>\n",
              "      <td>0</td>\n",
              "      <td>2018</td>\n",
              "      <td>1</td>\n",
              "      <td>1</td>\n",
              "      <td>1</td>\n",
              "      <td>3.0</td>\n",
              "      <td>24.0</td>\n",
              "      <td>1</td>\n",
              "      <td>2</td>\n",
              "      <td>Married/Living together</td>\n",
              "      <td>2</td>\n",
              "      <td>0</td>\n",
              "    </tr>\n",
              "    <tr>\n",
              "      <th>1</th>\n",
              "      <td>0</td>\n",
              "      <td>2018</td>\n",
              "      <td>0</td>\n",
              "      <td>1</td>\n",
              "      <td>0</td>\n",
              "      <td>5.0</td>\n",
              "      <td>70.0</td>\n",
              "      <td>1</td>\n",
              "      <td>1</td>\n",
              "      <td>Widowed</td>\n",
              "      <td>0</td>\n",
              "      <td>1</td>\n",
              "    </tr>\n",
              "    <tr>\n",
              "      <th>2</th>\n",
              "      <td>0</td>\n",
              "      <td>2018</td>\n",
              "      <td>1</td>\n",
              "      <td>0</td>\n",
              "      <td>1</td>\n",
              "      <td>5.0</td>\n",
              "      <td>26.0</td>\n",
              "      <td>0</td>\n",
              "      <td>0</td>\n",
              "      <td>Single/Never Married</td>\n",
              "      <td>3</td>\n",
              "      <td>0</td>\n",
              "    </tr>\n",
              "    <tr>\n",
              "      <th>3</th>\n",
              "      <td>0</td>\n",
              "      <td>2018</td>\n",
              "      <td>0</td>\n",
              "      <td>1</td>\n",
              "      <td>1</td>\n",
              "      <td>5.0</td>\n",
              "      <td>34.0</td>\n",
              "      <td>1</td>\n",
              "      <td>1</td>\n",
              "      <td>Married/Living together</td>\n",
              "      <td>1</td>\n",
              "      <td>2</td>\n",
              "    </tr>\n",
              "    <tr>\n",
              "      <th>4</th>\n",
              "      <td>0</td>\n",
              "      <td>2018</td>\n",
              "      <td>0</td>\n",
              "      <td>0</td>\n",
              "      <td>0</td>\n",
              "      <td>8.0</td>\n",
              "      <td>26.0</td>\n",
              "      <td>0</td>\n",
              "      <td>3</td>\n",
              "      <td>Single/Never Married</td>\n",
              "      <td>1</td>\n",
              "      <td>3</td>\n",
              "    </tr>\n",
              "  </tbody>\n",
              "</table>\n",
              "</div>"
            ],
            "text/plain": [
              "   country  year  ...  Level of Educuation  Type of Job\n",
              "0        0  2018  ...                    2            0\n",
              "1        0  2018  ...                    0            1\n",
              "2        0  2018  ...                    3            0\n",
              "3        0  2018  ...                    1            2\n",
              "4        0  2018  ...                    1            3\n",
              "\n",
              "[5 rows x 12 columns]"
            ]
          },
          "metadata": {
            "tags": []
          },
          "execution_count": 426
        }
      ]
    },
    {
      "cell_type": "code",
      "metadata": {
        "id": "Au3F2x3i_C8x",
        "colab_type": "code",
        "colab": {}
      },
      "source": [
        "#preprocessing step\n",
        "#we are diving the data into the labels which is the y- axis and the features as the x-axis\n",
        "X = fin.drop(columns = ['year','Has a Bank account','marital_status'])\n",
        "y = fin['Has a Bank account']"
      ],
      "execution_count": 0,
      "outputs": []
    },
    {
      "cell_type": "code",
      "metadata": {
        "id": "vugv7Zk3QMSL",
        "colab_type": "code",
        "colab": {}
      },
      "source": [
        "#we are going to split the data into a training and and a test data using the train_test_split \n",
        "#we are importing train_test_split from the skleanmodel\n",
        "from sklearn.model_selection import train_test_split\n",
        "X_train,X_test,y_train,y_test = train_test_split(X,y, test_size = 0.2, random_state =0)"
      ],
      "execution_count": 0,
      "outputs": []
    },
    {
      "cell_type": "code",
      "metadata": {
        "id": "ljexw4uqQ2aE",
        "colab_type": "code",
        "colab": {}
      },
      "source": [
        "#we are going to perform a normalization of our data\n",
        "#\n",
        "from sklearn.preprocessing import StandardScaler\n",
        "sc = StandardScaler()\n",
        "X_train = sc.fit_transform(X_train)\n",
        "X_test = sc.fit_transform(X_test)"
      ],
      "execution_count": 0,
      "outputs": []
    },
    {
      "cell_type": "code",
      "metadata": {
        "id": "PGuc-ZKPRPIb",
        "colab_type": "code",
        "colab": {}
      },
      "source": [
        "#we are going to apply PCA\n",
        "from sklearn.decomposition import PCA\n",
        "pca = PCA(0.95)\n",
        "X_train = pca.fit_transform(X_train)\n",
        "X_test = pca.transform(X_test)"
      ],
      "execution_count": 0,
      "outputs": []
    },
    {
      "cell_type": "code",
      "metadata": {
        "id": "wW-llCVOR9rJ",
        "colab_type": "code",
        "colab": {
          "base_uri": "https://localhost:8080/",
          "height": 50
        },
        "outputId": "0ecfa8c8-68df-4448-c991-6bbe9c9bf40d"
      },
      "source": [
        "#explained variance ratio obtained from PCA\n",
        "explained_variance = pca.explained_variance_ratio_\n",
        "\n",
        "explained_variance"
      ],
      "execution_count": 431,
      "outputs": [
        {
          "output_type": "execute_result",
          "data": {
            "text/plain": [
              "array([0.19292666, 0.17180353, 0.15206453, 0.10648086, 0.09282925,\n",
              "       0.08700206, 0.0705692 , 0.06763366, 0.05869024])"
            ]
          },
          "metadata": {
            "tags": []
          },
          "execution_count": 431
        }
      ]
    },
    {
      "cell_type": "code",
      "metadata": {
        "id": "UEQBxB1jSaGZ",
        "colab_type": "code",
        "colab": {}
      },
      "source": [
        "#we are going to use 3 principal componrnts to train our algorithm\n",
        "from sklearn.decomposition import PCA \n",
        "pca = PCA(n_components=2)\n",
        "X_train = pca.fit_transform(X_train)\n",
        "X_test = pca.transform(X_test)"
      ],
      "execution_count": 0,
      "outputs": []
    },
    {
      "cell_type": "code",
      "metadata": {
        "id": "RO1guyFlS_SD",
        "colab_type": "code",
        "colab": {}
      },
      "source": [
        "#we are training and making predictions\n",
        "from sklearn.ensemble import RandomForestClassifier\n",
        "\n",
        "classifier = RandomForestClassifier(max_depth = 2, random_state = 0)\n",
        "classifier.fit(X_train, y_train)\n",
        "\n",
        "# predicting the Test set results\n",
        "\n",
        "y_pred = classifier.predict(X_test)"
      ],
      "execution_count": 0,
      "outputs": []
    },
    {
      "cell_type": "code",
      "metadata": {
        "id": "88PStHEQT7Dl",
        "colab_type": "code",
        "colab": {
          "base_uri": "https://localhost:8080/",
          "height": 66
        },
        "outputId": "17f38a92-cfd3-43fd-b21a-557fadd96952"
      },
      "source": [
        "#we are going to have a performance evaluation\n",
        "#we are going to use a confusin matrix for this\n",
        "#we are getting a 86% accuracy from 4038 instances\n",
        "from sklearn.metrics import confusion_matrix\n",
        "from sklearn.metrics import accuracy_score\n",
        "\n",
        "cm = confusion_matrix(y_test, y_pred)\n",
        "print(cm)\n",
        "print('Accuracy' , accuracy_score(y_test, y_pred))\n"
      ],
      "execution_count": 434,
      "outputs": [
        {
          "output_type": "stream",
          "text": [
            "[[4036    0]\n",
            " [ 632    0]]\n",
            "Accuracy 0.8646101113967438\n"
          ],
          "name": "stdout"
        }
      ]
    },
    {
      "cell_type": "markdown",
      "metadata": {
        "id": "ofF2KAPxrmNd",
        "colab_type": "text"
      },
      "source": [
        "## Linear Discriminant Analysis"
      ]
    },
    {
      "cell_type": "code",
      "metadata": {
        "id": "pxTX3b8ZUQlk",
        "colab_type": "code",
        "colab": {}
      },
      "source": [
        "#we are going to divid our data into two again\n",
        "X_l = fin.drop(columns = ['year','Has a Bank account','marital_status'])\n",
        "y_l = fin['Has a Bank account']"
      ],
      "execution_count": 0,
      "outputs": []
    },
    {
      "cell_type": "code",
      "metadata": {
        "id": "y_oheUgnsUY9",
        "colab_type": "code",
        "colab": {}
      },
      "source": [
        "# wea re going to divide the data into training and and test sets\n",
        "from sklearn.model_selection import train_test_split\n",
        "X_l_train, X_l_test, y_l_train, y_l_test = train_test_split(X_l, y_l, test_size=0.2, random_state=0)"
      ],
      "execution_count": 0,
      "outputs": []
    },
    {
      "cell_type": "code",
      "metadata": {
        "id": "Em-dYEFFsy0M",
        "colab_type": "code",
        "colab": {}
      },
      "source": [
        "#normalizing our data using the standard scaler\n",
        "#this is a feature scaling method\n",
        "from sklearn.preprocessing import StandardScaler\n",
        "sc = StandardScaler()\n",
        "X_l_train = sc.fit_transform(X_l_train)\n",
        "X_l_test = sc.transform(X_l_test)"
      ],
      "execution_count": 0,
      "outputs": []
    },
    {
      "cell_type": "code",
      "metadata": {
        "id": "gcis6oCstCM8",
        "colab_type": "code",
        "colab": {}
      },
      "source": [
        "#performing Linear Discrimin antAnalysis\n",
        "#we are going to use only one component\n",
        "from sklearn.discriminant_analysis import LinearDiscriminantAnalysis as LDA\n",
        "lda = LDA(n_components=1)\n",
        "X_l_train = lda.fit_transform(X_l_train, y_l_train)\n",
        "X_l_test = lda.transform(X_l_test)\n"
      ],
      "execution_count": 0,
      "outputs": []
    },
    {
      "cell_type": "code",
      "metadata": {
        "id": "nPr6vr6SttQV",
        "colab_type": "code",
        "colab": {}
      },
      "source": [
        "#training and making predictions\n",
        "#we are going to use the RandomForestClassifier algorithm\n",
        "from sklearn.ensemble import RandomForestClassifier\n",
        "\n",
        "classifier = RandomForestClassifier(max_depth=2, random_state=0)\n",
        "classifier.fit(X_l_train, y_l_train)\n",
        "y_l_pred = classifier.predict(X_l_test)"
      ],
      "execution_count": 0,
      "outputs": []
    },
    {
      "cell_type": "code",
      "metadata": {
        "id": "Qj40cMKstdV1",
        "colab_type": "code",
        "colab": {
          "base_uri": "https://localhost:8080/",
          "height": 66
        },
        "outputId": "2e359808-c4c5-42e4-a79d-08c7c3876ac0"
      },
      "source": [
        "#perfoming an evaluation using a confusion matrix\n",
        "#we are getting 85% accuaracy.\n",
        "from sklearn.metrics import confusion_matrix\n",
        "from sklearn.metrics import accuracy_score\n",
        "\n",
        "cm = confusion_matrix(y_l_test, y_l_pred)\n",
        "print(cm)\n",
        "print('Accuracy' + str(accuracy_score(y_l_test, y_l_pred)))"
      ],
      "execution_count": 280,
      "outputs": [
        {
          "output_type": "stream",
          "text": [
            "[[4008    0]\n",
            " [ 661    0]]\n",
            "Accuracy0.8584279288926965\n"
          ],
          "name": "stdout"
        }
      ]
    },
    {
      "cell_type": "markdown",
      "metadata": {
        "id": "ayqqNDQA1jpg",
        "colab_type": "text"
      },
      "source": [
        "## Factor Analysis"
      ]
    },
    {
      "cell_type": "code",
      "metadata": {
        "id": "OS9PktN7ua5q",
        "colab_type": "code",
        "colab": {
          "base_uri": "https://localhost:8080/",
          "height": 288
        },
        "outputId": "96a70134-b4c7-4798-a3f2-c80bf1766322"
      },
      "source": [
        "fin.head()"
      ],
      "execution_count": 435,
      "outputs": [
        {
          "output_type": "execute_result",
          "data": {
            "text/html": [
              "<div>\n",
              "<style scoped>\n",
              "    .dataframe tbody tr th:only-of-type {\n",
              "        vertical-align: middle;\n",
              "    }\n",
              "\n",
              "    .dataframe tbody tr th {\n",
              "        vertical-align: top;\n",
              "    }\n",
              "\n",
              "    .dataframe thead th {\n",
              "        text-align: right;\n",
              "    }\n",
              "</style>\n",
              "<table border=\"1\" class=\"dataframe\">\n",
              "  <thead>\n",
              "    <tr style=\"text-align: right;\">\n",
              "      <th></th>\n",
              "      <th>country</th>\n",
              "      <th>year</th>\n",
              "      <th>Has a Bank account</th>\n",
              "      <th>Type of Location</th>\n",
              "      <th>Cell Phone Access</th>\n",
              "      <th>household_size</th>\n",
              "      <th>Respondent Age</th>\n",
              "      <th>gender_of_respondent</th>\n",
              "      <th>the_relationship_with_head</th>\n",
              "      <th>marital_status</th>\n",
              "      <th>Level of Educuation</th>\n",
              "      <th>Type of Job</th>\n",
              "    </tr>\n",
              "  </thead>\n",
              "  <tbody>\n",
              "    <tr>\n",
              "      <th>0</th>\n",
              "      <td>0</td>\n",
              "      <td>2018</td>\n",
              "      <td>1</td>\n",
              "      <td>1</td>\n",
              "      <td>1</td>\n",
              "      <td>3.0</td>\n",
              "      <td>24.0</td>\n",
              "      <td>1</td>\n",
              "      <td>2</td>\n",
              "      <td>Married/Living together</td>\n",
              "      <td>2</td>\n",
              "      <td>0</td>\n",
              "    </tr>\n",
              "    <tr>\n",
              "      <th>1</th>\n",
              "      <td>0</td>\n",
              "      <td>2018</td>\n",
              "      <td>0</td>\n",
              "      <td>1</td>\n",
              "      <td>0</td>\n",
              "      <td>5.0</td>\n",
              "      <td>70.0</td>\n",
              "      <td>1</td>\n",
              "      <td>1</td>\n",
              "      <td>Widowed</td>\n",
              "      <td>0</td>\n",
              "      <td>1</td>\n",
              "    </tr>\n",
              "    <tr>\n",
              "      <th>2</th>\n",
              "      <td>0</td>\n",
              "      <td>2018</td>\n",
              "      <td>1</td>\n",
              "      <td>0</td>\n",
              "      <td>1</td>\n",
              "      <td>5.0</td>\n",
              "      <td>26.0</td>\n",
              "      <td>0</td>\n",
              "      <td>0</td>\n",
              "      <td>Single/Never Married</td>\n",
              "      <td>3</td>\n",
              "      <td>0</td>\n",
              "    </tr>\n",
              "    <tr>\n",
              "      <th>3</th>\n",
              "      <td>0</td>\n",
              "      <td>2018</td>\n",
              "      <td>0</td>\n",
              "      <td>1</td>\n",
              "      <td>1</td>\n",
              "      <td>5.0</td>\n",
              "      <td>34.0</td>\n",
              "      <td>1</td>\n",
              "      <td>1</td>\n",
              "      <td>Married/Living together</td>\n",
              "      <td>1</td>\n",
              "      <td>2</td>\n",
              "    </tr>\n",
              "    <tr>\n",
              "      <th>4</th>\n",
              "      <td>0</td>\n",
              "      <td>2018</td>\n",
              "      <td>0</td>\n",
              "      <td>0</td>\n",
              "      <td>0</td>\n",
              "      <td>8.0</td>\n",
              "      <td>26.0</td>\n",
              "      <td>0</td>\n",
              "      <td>3</td>\n",
              "      <td>Single/Never Married</td>\n",
              "      <td>1</td>\n",
              "      <td>3</td>\n",
              "    </tr>\n",
              "  </tbody>\n",
              "</table>\n",
              "</div>"
            ],
            "text/plain": [
              "   country  year  ...  Level of Educuation  Type of Job\n",
              "0        0  2018  ...                    2            0\n",
              "1        0  2018  ...                    0            1\n",
              "2        0  2018  ...                    3            0\n",
              "3        0  2018  ...                    1            2\n",
              "4        0  2018  ...                    1            3\n",
              "\n",
              "[5 rows x 12 columns]"
            ]
          },
          "metadata": {
            "tags": []
          },
          "execution_count": 435
        }
      ]
    },
    {
      "cell_type": "code",
      "metadata": {
        "id": "CYK1Di6Tt--B",
        "colab_type": "code",
        "colab": {}
      },
      "source": [
        "#dropping unnecessy columns\n",
        "fin.drop(['year','marital_status'], axis=1, inplace=True)"
      ],
      "execution_count": 0,
      "outputs": []
    },
    {
      "cell_type": "code",
      "metadata": {
        "id": "yOEAgYOP2C4N",
        "colab_type": "code",
        "colab": {
          "base_uri": "https://localhost:8080/",
          "height": 207
        },
        "outputId": "256c5aa9-7aa3-4c6a-80d2-46e42fdc6fb4"
      },
      "source": [
        "#checking if the columns were sropped\n",
        "fin.head()"
      ],
      "execution_count": 439,
      "outputs": [
        {
          "output_type": "execute_result",
          "data": {
            "text/html": [
              "<div>\n",
              "<style scoped>\n",
              "    .dataframe tbody tr th:only-of-type {\n",
              "        vertical-align: middle;\n",
              "    }\n",
              "\n",
              "    .dataframe tbody tr th {\n",
              "        vertical-align: top;\n",
              "    }\n",
              "\n",
              "    .dataframe thead th {\n",
              "        text-align: right;\n",
              "    }\n",
              "</style>\n",
              "<table border=\"1\" class=\"dataframe\">\n",
              "  <thead>\n",
              "    <tr style=\"text-align: right;\">\n",
              "      <th></th>\n",
              "      <th>country</th>\n",
              "      <th>Has a Bank account</th>\n",
              "      <th>Type of Location</th>\n",
              "      <th>Cell Phone Access</th>\n",
              "      <th>household_size</th>\n",
              "      <th>Respondent Age</th>\n",
              "      <th>gender_of_respondent</th>\n",
              "      <th>the_relationship_with_head</th>\n",
              "      <th>Level of Educuation</th>\n",
              "      <th>Type of Job</th>\n",
              "    </tr>\n",
              "  </thead>\n",
              "  <tbody>\n",
              "    <tr>\n",
              "      <th>0</th>\n",
              "      <td>0</td>\n",
              "      <td>1</td>\n",
              "      <td>1</td>\n",
              "      <td>1</td>\n",
              "      <td>3.0</td>\n",
              "      <td>24.0</td>\n",
              "      <td>1</td>\n",
              "      <td>2</td>\n",
              "      <td>2</td>\n",
              "      <td>0</td>\n",
              "    </tr>\n",
              "    <tr>\n",
              "      <th>1</th>\n",
              "      <td>0</td>\n",
              "      <td>0</td>\n",
              "      <td>1</td>\n",
              "      <td>0</td>\n",
              "      <td>5.0</td>\n",
              "      <td>70.0</td>\n",
              "      <td>1</td>\n",
              "      <td>1</td>\n",
              "      <td>0</td>\n",
              "      <td>1</td>\n",
              "    </tr>\n",
              "    <tr>\n",
              "      <th>2</th>\n",
              "      <td>0</td>\n",
              "      <td>1</td>\n",
              "      <td>0</td>\n",
              "      <td>1</td>\n",
              "      <td>5.0</td>\n",
              "      <td>26.0</td>\n",
              "      <td>0</td>\n",
              "      <td>0</td>\n",
              "      <td>3</td>\n",
              "      <td>0</td>\n",
              "    </tr>\n",
              "    <tr>\n",
              "      <th>3</th>\n",
              "      <td>0</td>\n",
              "      <td>0</td>\n",
              "      <td>1</td>\n",
              "      <td>1</td>\n",
              "      <td>5.0</td>\n",
              "      <td>34.0</td>\n",
              "      <td>1</td>\n",
              "      <td>1</td>\n",
              "      <td>1</td>\n",
              "      <td>2</td>\n",
              "    </tr>\n",
              "    <tr>\n",
              "      <th>4</th>\n",
              "      <td>0</td>\n",
              "      <td>0</td>\n",
              "      <td>0</td>\n",
              "      <td>0</td>\n",
              "      <td>8.0</td>\n",
              "      <td>26.0</td>\n",
              "      <td>0</td>\n",
              "      <td>3</td>\n",
              "      <td>1</td>\n",
              "      <td>3</td>\n",
              "    </tr>\n",
              "  </tbody>\n",
              "</table>\n",
              "</div>"
            ],
            "text/plain": [
              "   country  Has a Bank account  ...  Level of Educuation  Type of Job\n",
              "0        0                   1  ...                    2            0\n",
              "1        0                   0  ...                    0            1\n",
              "2        0                   1  ...                    3            0\n",
              "3        0                   0  ...                    1            2\n",
              "4        0                   0  ...                    1            3\n",
              "\n",
              "[5 rows x 10 columns]"
            ]
          },
          "metadata": {
            "tags": []
          },
          "execution_count": 439
        }
      ]
    },
    {
      "cell_type": "code",
      "metadata": {
        "id": "HMCzBK9T2F5W",
        "colab_type": "code",
        "colab": {
          "base_uri": "https://localhost:8080/",
          "height": 180
        },
        "outputId": "d4343455-e5ed-4752-f3a6-e7f172b6e5fb"
      },
      "source": [
        "#installing factor analyzer\n",
        "pip install factor_analyzer==0.2.3"
      ],
      "execution_count": 444,
      "outputs": [
        {
          "output_type": "stream",
          "text": [
            "Collecting factor_analyzer==0.2.3\n",
            "  Downloading https://files.pythonhosted.org/packages/79/1b/84808bbeee0f3a8753c3d8034baf0aa0013cf08957eff750f366ce83f04a/factor_analyzer-0.2.3-py2.py3-none-any.whl\n",
            "Requirement already satisfied: scipy in /usr/local/lib/python3.6/dist-packages (from factor_analyzer==0.2.3) (1.4.1)\n",
            "Requirement already satisfied: pandas in /usr/local/lib/python3.6/dist-packages (from factor_analyzer==0.2.3) (1.0.3)\n",
            "Requirement already satisfied: numpy in /usr/local/lib/python3.6/dist-packages (from factor_analyzer==0.2.3) (1.18.3)\n",
            "Requirement already satisfied: pytz>=2017.2 in /usr/local/lib/python3.6/dist-packages (from pandas->factor_analyzer==0.2.3) (2018.9)\n",
            "Requirement already satisfied: python-dateutil>=2.6.1 in /usr/local/lib/python3.6/dist-packages (from pandas->factor_analyzer==0.2.3) (2.8.1)\n",
            "Requirement already satisfied: six>=1.5 in /usr/local/lib/python3.6/dist-packages (from python-dateutil>=2.6.1->pandas->factor_analyzer==0.2.3) (1.12.0)\n",
            "Installing collected packages: factor-analyzer\n",
            "Successfully installed factor-analyzer-0.2.3\n"
          ],
          "name": "stdout"
        }
      ]
    },
    {
      "cell_type": "code",
      "metadata": {
        "id": "UCm7bukI2fD_",
        "colab_type": "code",
        "colab": {
          "base_uri": "https://localhost:8080/",
          "height": 33
        },
        "outputId": "9ddb2985-b1cb-45dd-e90c-678757f51742"
      },
      "source": [
        "#chi_scure\n",
        "from factor_analyzer.factor_analyzer import calculate_bartlett_sphericity\n",
        "chi_square_value, p_value = calculate_bartlett_sphericity(fin)\n",
        "chi_square_value,p_value\n",
        "# the test was significant becouse the p-value is 0 which tells us that the correlation matrix is not an identy matrix"
      ],
      "execution_count": 445,
      "outputs": [
        {
          "output_type": "execute_result",
          "data": {
            "text/plain": [
              "(22791.515653782466, 0.0)"
            ]
          },
          "metadata": {
            "tags": []
          },
          "execution_count": 445
        }
      ]
    },
    {
      "cell_type": "code",
      "metadata": {
        "id": "o2mbmIf93OQo",
        "colab_type": "code",
        "colab": {
          "base_uri": "https://localhost:8080/",
          "height": 335
        },
        "outputId": "1c3399c0-b3ee-4795-83dd-62b3c69b21c8"
      },
      "source": [
        "#choosing the number of factors\n",
        "#here we can only see 3-factor analyzer are greater than 1 which means we only need to consider the three factors\n",
        "from factor_analyzer import  FactorAnalyzer\n",
        "fa = FactorAnalyzer()\n",
        "fa.analyze(fin, 10, rotation=None)\n",
        "\n",
        "ev, v = fa.get_eigenvalues()\n",
        "ev"
      ],
      "execution_count": 452,
      "outputs": [
        {
          "output_type": "execute_result",
          "data": {
            "text/html": [
              "<div>\n",
              "<style scoped>\n",
              "    .dataframe tbody tr th:only-of-type {\n",
              "        vertical-align: middle;\n",
              "    }\n",
              "\n",
              "    .dataframe tbody tr th {\n",
              "        vertical-align: top;\n",
              "    }\n",
              "\n",
              "    .dataframe thead th {\n",
              "        text-align: right;\n",
              "    }\n",
              "</style>\n",
              "<table border=\"1\" class=\"dataframe\">\n",
              "  <thead>\n",
              "    <tr style=\"text-align: right;\">\n",
              "      <th></th>\n",
              "      <th>Original_Eigenvalues</th>\n",
              "    </tr>\n",
              "  </thead>\n",
              "  <tbody>\n",
              "    <tr>\n",
              "      <th>0</th>\n",
              "      <td>1.755857</td>\n",
              "    </tr>\n",
              "    <tr>\n",
              "      <th>1</th>\n",
              "      <td>1.683905</td>\n",
              "    </tr>\n",
              "    <tr>\n",
              "      <th>2</th>\n",
              "      <td>1.514333</td>\n",
              "    </tr>\n",
              "    <tr>\n",
              "      <th>3</th>\n",
              "      <td>1.011960</td>\n",
              "    </tr>\n",
              "    <tr>\n",
              "      <th>4</th>\n",
              "      <td>0.838998</td>\n",
              "    </tr>\n",
              "    <tr>\n",
              "      <th>5</th>\n",
              "      <td>0.783457</td>\n",
              "    </tr>\n",
              "    <tr>\n",
              "      <th>6</th>\n",
              "      <td>0.732367</td>\n",
              "    </tr>\n",
              "    <tr>\n",
              "      <th>7</th>\n",
              "      <td>0.635477</td>\n",
              "    </tr>\n",
              "    <tr>\n",
              "      <th>8</th>\n",
              "      <td>0.547161</td>\n",
              "    </tr>\n",
              "    <tr>\n",
              "      <th>9</th>\n",
              "      <td>0.496486</td>\n",
              "    </tr>\n",
              "  </tbody>\n",
              "</table>\n",
              "</div>"
            ],
            "text/plain": [
              "   Original_Eigenvalues\n",
              "0              1.755857\n",
              "1              1.683905\n",
              "2              1.514333\n",
              "3              1.011960\n",
              "4              0.838998\n",
              "5              0.783457\n",
              "6              0.732367\n",
              "7              0.635477\n",
              "8              0.547161\n",
              "9              0.496486"
            ]
          },
          "metadata": {
            "tags": []
          },
          "execution_count": 452
        }
      ]
    },
    {
      "cell_type": "code",
      "metadata": {
        "id": "pSugSV754GAO",
        "colab_type": "code",
        "colab": {
          "base_uri": "https://localhost:8080/",
          "height": 295
        },
        "outputId": "596ccb53-a264-4afa-abd7-3de8b37b6b1b"
      },
      "source": [
        "#the scree plot that drows a straight line for easch factor and its eigen values.\n",
        "\n",
        "plt.scatter(range(1,fin.shape[1]+1),ev)\n",
        "plt.plot(range(1,fin.shape[1]+1),ev)\n",
        "plt.title('Scree Plot')\n",
        "plt.xlabel('Factors')\n",
        "plt.ylabel('Eigenvalue')\n",
        "plt.grid()\n",
        "plt.show()"
      ],
      "execution_count": 458,
      "outputs": [
        {
          "output_type": "display_data",
          "data": {
            "image/png": "[encoded data removed]",
            "text/plain": [
              "<Figure size 432x288 with 1 Axes>"
            ]
          },
          "metadata": {
            "tags": [],
            "needs_background": "light"
          }
        }
      ]
    },
    {
      "cell_type": "code",
      "metadata": {
        "id": "K4pmGcXY6Amu",
        "colab_type": "code",
        "colab": {
          "base_uri": "https://localhost:8080/",
          "height": 335
        },
        "outputId": "f50d1480-27f2-4a90-c27f-1774e186a4fd"
      },
      "source": [
        "#performing Factor Analysis\n",
        "fa = FactorAnalyzer()\n",
        "fa.analyze(fin,3, rotation='varimax')\n",
        "fa.loadings"
      ],
      "execution_count": 454,
      "outputs": [
        {
          "output_type": "execute_result",
          "data": {
            "text/html": [
              "<div>\n",
              "<style scoped>\n",
              "    .dataframe tbody tr th:only-of-type {\n",
              "        vertical-align: middle;\n",
              "    }\n",
              "\n",
              "    .dataframe tbody tr th {\n",
              "        vertical-align: top;\n",
              "    }\n",
              "\n",
              "    .dataframe thead th {\n",
              "        text-align: right;\n",
              "    }\n",
              "</style>\n",
              "<table border=\"1\" class=\"dataframe\">\n",
              "  <thead>\n",
              "    <tr style=\"text-align: right;\">\n",
              "      <th></th>\n",
              "      <th>Factor1</th>\n",
              "      <th>Factor2</th>\n",
              "      <th>Factor3</th>\n",
              "    </tr>\n",
              "  </thead>\n",
              "  <tbody>\n",
              "    <tr>\n",
              "      <th>country</th>\n",
              "      <td>0.101339</td>\n",
              "      <td>-0.231109</td>\n",
              "      <td>-0.392560</td>\n",
              "    </tr>\n",
              "    <tr>\n",
              "      <th>Has a Bank account</th>\n",
              "      <td>-0.055418</td>\n",
              "      <td>0.554092</td>\n",
              "      <td>-0.032684</td>\n",
              "    </tr>\n",
              "    <tr>\n",
              "      <th>Type of Location</th>\n",
              "      <td>-0.070397</td>\n",
              "      <td>-0.075770</td>\n",
              "      <td>0.543031</td>\n",
              "    </tr>\n",
              "    <tr>\n",
              "      <th>Cell Phone Access</th>\n",
              "      <td>0.032328</td>\n",
              "      <td>0.396748</td>\n",
              "      <td>0.153986</td>\n",
              "    </tr>\n",
              "    <tr>\n",
              "      <th>household_size</th>\n",
              "      <td>0.190413</td>\n",
              "      <td>0.000702</td>\n",
              "      <td>0.472003</td>\n",
              "    </tr>\n",
              "    <tr>\n",
              "      <th>Respondent Age</th>\n",
              "      <td>-0.579860</td>\n",
              "      <td>-0.132102</td>\n",
              "      <td>0.019497</td>\n",
              "    </tr>\n",
              "    <tr>\n",
              "      <th>gender_of_respondent</th>\n",
              "      <td>0.157716</td>\n",
              "      <td>-0.239137</td>\n",
              "      <td>0.045863</td>\n",
              "    </tr>\n",
              "    <tr>\n",
              "      <th>the_relationship_with_head</th>\n",
              "      <td>0.721531</td>\n",
              "      <td>-0.162593</td>\n",
              "      <td>0.128075</td>\n",
              "    </tr>\n",
              "    <tr>\n",
              "      <th>Level of Educuation</th>\n",
              "      <td>0.330572</td>\n",
              "      <td>0.646842</td>\n",
              "      <td>-0.129013</td>\n",
              "    </tr>\n",
              "    <tr>\n",
              "      <th>Type of Job</th>\n",
              "      <td>0.071250</td>\n",
              "      <td>-0.034406</td>\n",
              "      <td>0.419486</td>\n",
              "    </tr>\n",
              "  </tbody>\n",
              "</table>\n",
              "</div>"
            ],
            "text/plain": [
              "                             Factor1   Factor2   Factor3\n",
              "country                     0.101339 -0.231109 -0.392560\n",
              "Has a Bank account         -0.055418  0.554092 -0.032684\n",
              "Type of Location           -0.070397 -0.075770  0.543031\n",
              "Cell Phone Access           0.032328  0.396748  0.153986\n",
              "household_size              0.190413  0.000702  0.472003\n",
              "Respondent Age             -0.579860 -0.132102  0.019497\n",
              "gender_of_respondent        0.157716 -0.239137  0.045863\n",
              "the_relationship_with_head  0.721531 -0.162593  0.128075\n",
              "Level of Educuation         0.330572  0.646842 -0.129013\n",
              "Type of Job                 0.071250 -0.034406  0.419486"
            ]
          },
          "metadata": {
            "tags": []
          },
          "execution_count": 454
        }
      ]
    },
    {
      "cell_type": "code",
      "metadata": {
        "id": "mjCNkWBH4fOz",
        "colab_type": "code",
        "colab": {
          "base_uri": "https://localhost:8080/",
          "height": 335
        },
        "outputId": "a5f5f76a-5dee-4588-ae19-e2b0fe3090a1"
      },
      "source": [
        "#performing factor analysis\n",
        "fa = FactorAnalyzer()\n",
        "fa.analyze(fin, 2, rotation=\"varimax\")\n",
        "fa.loadings"
      ],
      "execution_count": 463,
      "outputs": [
        {
          "output_type": "execute_result",
          "data": {
            "text/html": [
              "<div>\n",
              "<style scoped>\n",
              "    .dataframe tbody tr th:only-of-type {\n",
              "        vertical-align: middle;\n",
              "    }\n",
              "\n",
              "    .dataframe tbody tr th {\n",
              "        vertical-align: top;\n",
              "    }\n",
              "\n",
              "    .dataframe thead th {\n",
              "        text-align: right;\n",
              "    }\n",
              "</style>\n",
              "<table border=\"1\" class=\"dataframe\">\n",
              "  <thead>\n",
              "    <tr style=\"text-align: right;\">\n",
              "      <th></th>\n",
              "      <th>Factor1</th>\n",
              "      <th>Factor2</th>\n",
              "    </tr>\n",
              "  </thead>\n",
              "  <tbody>\n",
              "    <tr>\n",
              "      <th>country</th>\n",
              "      <td>-0.091700</td>\n",
              "      <td>-0.233562</td>\n",
              "    </tr>\n",
              "    <tr>\n",
              "      <th>Has a Bank account</th>\n",
              "      <td>0.414089</td>\n",
              "      <td>-0.109969</td>\n",
              "    </tr>\n",
              "    <tr>\n",
              "      <th>Type of Location</th>\n",
              "      <td>-0.145585</td>\n",
              "      <td>0.415509</td>\n",
              "    </tr>\n",
              "    <tr>\n",
              "      <th>Cell Phone Access</th>\n",
              "      <td>0.316043</td>\n",
              "      <td>0.103389</td>\n",
              "    </tr>\n",
              "    <tr>\n",
              "      <th>household_size</th>\n",
              "      <td>0.021447</td>\n",
              "      <td>0.544605</td>\n",
              "    </tr>\n",
              "    <tr>\n",
              "      <th>Respondent Age</th>\n",
              "      <td>-0.322060</td>\n",
              "      <td>-0.228825</td>\n",
              "    </tr>\n",
              "    <tr>\n",
              "      <th>gender_of_respondent</th>\n",
              "      <td>-0.136992</td>\n",
              "      <td>0.136529</td>\n",
              "    </tr>\n",
              "    <tr>\n",
              "      <th>the_relationship_with_head</th>\n",
              "      <td>0.118828</td>\n",
              "      <td>0.354135</td>\n",
              "    </tr>\n",
              "    <tr>\n",
              "      <th>Level of Educuation</th>\n",
              "      <td>0.840566</td>\n",
              "      <td>-0.020630</td>\n",
              "    </tr>\n",
              "    <tr>\n",
              "      <th>Type of Job</th>\n",
              "      <td>-0.041616</td>\n",
              "      <td>0.406294</td>\n",
              "    </tr>\n",
              "  </tbody>\n",
              "</table>\n",
              "</div>"
            ],
            "text/plain": [
              "                             Factor1   Factor2\n",
              "country                    -0.091700 -0.233562\n",
              "Has a Bank account          0.414089 -0.109969\n",
              "Type of Location           -0.145585  0.415509\n",
              "Cell Phone Access           0.316043  0.103389\n",
              "household_size              0.021447  0.544605\n",
              "Respondent Age             -0.322060 -0.228825\n",
              "gender_of_respondent       -0.136992  0.136529\n",
              "the_relationship_with_head  0.118828  0.354135\n",
              "Level of Educuation         0.840566 -0.020630\n",
              "Type of Job                -0.041616  0.406294"
            ]
          },
          "metadata": {
            "tags": []
          },
          "execution_count": 463
        }
      ]
    },
    {
      "cell_type": "code",
      "metadata": {
        "id": "3EVaZ0Nl7dJ_",
        "colab_type": "code",
        "colab": {
          "base_uri": "https://localhost:8080/",
          "height": 133
        },
        "outputId": "73ab0458-8420-4527-fb46-911fcdaf759b"
      },
      "source": [
        "# Getting variance of each factors\n",
        "fa.get_factor_variance()"
      ],
      "execution_count": 464,
      "outputs": [
        {
          "output_type": "execute_result",
          "data": {
            "text/html": [
              "<div>\n",
              "<style scoped>\n",
              "    .dataframe tbody tr th:only-of-type {\n",
              "        vertical-align: middle;\n",
              "    }\n",
              "\n",
              "    .dataframe tbody tr th {\n",
              "        vertical-align: top;\n",
              "    }\n",
              "\n",
              "    .dataframe thead th {\n",
              "        text-align: right;\n",
              "    }\n",
              "</style>\n",
              "<table border=\"1\" class=\"dataframe\">\n",
              "  <thead>\n",
              "    <tr style=\"text-align: right;\">\n",
              "      <th></th>\n",
              "      <th>Factor1</th>\n",
              "      <th>Factor2</th>\n",
              "    </tr>\n",
              "  </thead>\n",
              "  <tbody>\n",
              "    <tr>\n",
              "      <th>SS Loadings</th>\n",
              "      <td>1.146309</td>\n",
              "      <td>0.908489</td>\n",
              "    </tr>\n",
              "    <tr>\n",
              "      <th>Proportion Var</th>\n",
              "      <td>0.114631</td>\n",
              "      <td>0.090849</td>\n",
              "    </tr>\n",
              "    <tr>\n",
              "      <th>Cumulative Var</th>\n",
              "      <td>0.114631</td>\n",
              "      <td>0.205480</td>\n",
              "    </tr>\n",
              "  </tbody>\n",
              "</table>\n",
              "</div>"
            ],
            "text/plain": [
              "                 Factor1   Factor2\n",
              "SS Loadings     1.146309  0.908489\n",
              "Proportion Var  0.114631  0.090849\n",
              "Cumulative Var  0.114631  0.205480"
            ]
          },
          "metadata": {
            "tags": []
          },
          "execution_count": 464
        }
      ]
    },
    {
      "cell_type": "code",
      "metadata": {
        "id": "eIlNombG8YSu",
        "colab_type": "code",
        "colab": {}
      },
      "source": [
        ""
      ],
      "execution_count": 0,
      "outputs": []
    }
  ]
}